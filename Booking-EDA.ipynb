{
 "cells": [
  {
   "cell_type": "code",
   "execution_count": 2,
   "id": "cd17f8e1",
   "metadata": {},
   "outputs": [],
   "source": [
    "import pandas as pd"
   ]
  },
  {
   "cell_type": "code",
   "execution_count": 3,
   "id": "4be8674e",
   "metadata": {},
   "outputs": [
    {
     "name": "stderr",
     "output_type": "stream",
     "text": [
      "C:\\Users\\Sourav Ray\\anaconda3\\lib\\site-packages\\IPython\\core\\interactiveshell.py:3165: DtypeWarning: Columns (4) have mixed types.Specify dtype option on import or set low_memory=False.\n",
      "  has_raised = await self.run_ast_nodes(code_ast.body, cell_name,\n"
     ]
    }
   ],
   "source": [
    "booking = pd.read_csv(\"Booking.csv\")"
   ]
  },
  {
   "cell_type": "code",
   "execution_count": 4,
   "id": "5571ba4c",
   "metadata": {},
   "outputs": [
    {
     "data": {
      "text/html": [
       "<div>\n",
       "<style scoped>\n",
       "    .dataframe tbody tr th:only-of-type {\n",
       "        vertical-align: middle;\n",
       "    }\n",
       "\n",
       "    .dataframe tbody tr th {\n",
       "        vertical-align: top;\n",
       "    }\n",
       "\n",
       "    .dataframe thead th {\n",
       "        text-align: right;\n",
       "    }\n",
       "</style>\n",
       "<table border=\"1\" class=\"dataframe\">\n",
       "  <thead>\n",
       "    <tr style=\"text-align: right;\">\n",
       "      <th></th>\n",
       "      <th>Unnamed: 0</th>\n",
       "      <th>spn</th>\n",
       "      <th>bookingid</th>\n",
       "      <th>bodybookingdt</th>\n",
       "      <th>caseid</th>\n",
       "      <th>casefilingdt</th>\n",
       "      <th>dispositiondt</th>\n",
       "      <th>dispositiontype</th>\n",
       "      <th>bodyreleasedt</th>\n",
       "      <th>bkgyr</th>\n",
       "    </tr>\n",
       "  </thead>\n",
       "  <tbody>\n",
       "    <tr>\n",
       "      <th>0</th>\n",
       "      <td>1</td>\n",
       "      <td>252929.0</td>\n",
       "      <td>003900704|00252929</td>\n",
       "      <td>2015-12-31</td>\n",
       "      <td>206614101010002</td>\n",
       "      <td>2015-12-31</td>\n",
       "      <td>2016-01-04</td>\n",
       "      <td>Conviction</td>\n",
       "      <td>2016-01-04</td>\n",
       "      <td>2015</td>\n",
       "    </tr>\n",
       "    <tr>\n",
       "      <th>1</th>\n",
       "      <td>2</td>\n",
       "      <td>310898.0</td>\n",
       "      <td>003900741|00310898</td>\n",
       "      <td>2015-12-31</td>\n",
       "      <td>149344001010003</td>\n",
       "      <td>2015-12-30</td>\n",
       "      <td>2016-03-01</td>\n",
       "      <td>Conviction</td>\n",
       "      <td>2016-04-26</td>\n",
       "      <td>2015</td>\n",
       "    </tr>\n",
       "    <tr>\n",
       "      <th>2</th>\n",
       "      <td>3</td>\n",
       "      <td>480754.0</td>\n",
       "      <td>003900651|00480754</td>\n",
       "      <td>2015-12-31</td>\n",
       "      <td>124741301010003</td>\n",
       "      <td>2010-01-09</td>\n",
       "      <td>2016-05-26</td>\n",
       "      <td>Conviction</td>\n",
       "      <td>2016-06-21</td>\n",
       "      <td>2015</td>\n",
       "    </tr>\n",
       "    <tr>\n",
       "      <th>3</th>\n",
       "      <td>4</td>\n",
       "      <td>683245.0</td>\n",
       "      <td>003900737|00683245</td>\n",
       "      <td>2015-12-31</td>\n",
       "      <td>145586001010003</td>\n",
       "      <td>2015-01-27</td>\n",
       "      <td>2017-05-08</td>\n",
       "      <td>DISP DADJ</td>\n",
       "      <td>2015-12-31</td>\n",
       "      <td>2015</td>\n",
       "    </tr>\n",
       "    <tr>\n",
       "      <th>4</th>\n",
       "      <td>5</td>\n",
       "      <td>693184.0</td>\n",
       "      <td>003900879|00693184</td>\n",
       "      <td>2015-12-31</td>\n",
       "      <td>206613401010002</td>\n",
       "      <td>2015-12-30</td>\n",
       "      <td>NaN</td>\n",
       "      <td>NaN</td>\n",
       "      <td>2016-01-06</td>\n",
       "      <td>2015</td>\n",
       "    </tr>\n",
       "  </tbody>\n",
       "</table>\n",
       "</div>"
      ],
      "text/plain": [
       "   Unnamed: 0       spn           bookingid bodybookingdt           caseid  \\\n",
       "0           1  252929.0  003900704|00252929    2015-12-31  206614101010002   \n",
       "1           2  310898.0  003900741|00310898    2015-12-31  149344001010003   \n",
       "2           3  480754.0  003900651|00480754    2015-12-31  124741301010003   \n",
       "3           4  683245.0  003900737|00683245    2015-12-31  145586001010003   \n",
       "4           5  693184.0  003900879|00693184    2015-12-31  206613401010002   \n",
       "\n",
       "  casefilingdt dispositiondt dispositiontype bodyreleasedt  bkgyr  \n",
       "0   2015-12-31    2016-01-04      Conviction    2016-01-04   2015  \n",
       "1   2015-12-30    2016-03-01      Conviction    2016-04-26   2015  \n",
       "2   2010-01-09    2016-05-26      Conviction    2016-06-21   2015  \n",
       "3   2015-01-27    2017-05-08       DISP DADJ    2015-12-31   2015  \n",
       "4   2015-12-30           NaN             NaN    2016-01-06   2015  "
      ]
     },
     "execution_count": 4,
     "metadata": {},
     "output_type": "execute_result"
    }
   ],
   "source": [
    "booking.head()"
   ]
  },
  {
   "cell_type": "code",
   "execution_count": 5,
   "id": "ac353ce1",
   "metadata": {},
   "outputs": [
    {
     "name": "stdout",
     "output_type": "stream",
     "text": [
      "<class 'pandas.core.frame.DataFrame'>\n",
      "RangeIndex: 665892 entries, 0 to 665891\n",
      "Data columns (total 10 columns):\n",
      " #   Column           Non-Null Count   Dtype  \n",
      "---  ------           --------------   -----  \n",
      " 0   Unnamed: 0       665892 non-null  int64  \n",
      " 1   spn              665891 non-null  float64\n",
      " 2   bookingid        665891 non-null  object \n",
      " 3   bodybookingdt    665891 non-null  object \n",
      " 4   caseid           665891 non-null  object \n",
      " 5   casefilingdt     665891 non-null  object \n",
      " 6   dispositiondt    550793 non-null  object \n",
      " 7   dispositiontype  550793 non-null  object \n",
      " 8   bodyreleasedt    647010 non-null  object \n",
      " 9   bkgyr            665892 non-null  int64  \n",
      "dtypes: float64(1), int64(2), object(7)\n",
      "memory usage: 50.8+ MB\n"
     ]
    }
   ],
   "source": [
    "booking.info()"
   ]
  },
  {
   "cell_type": "code",
   "execution_count": 6,
   "id": "0162e056",
   "metadata": {},
   "outputs": [
    {
     "data": {
      "text/plain": [
       "(665892, 10)"
      ]
     },
     "execution_count": 6,
     "metadata": {},
     "output_type": "execute_result"
    }
   ],
   "source": [
    "booking.shape"
   ]
  },
  {
   "cell_type": "code",
   "execution_count": 7,
   "id": "e7df41d3",
   "metadata": {},
   "outputs": [],
   "source": [
    "booking.drop(\"Unnamed: 0\", axis = 1, inplace = True)"
   ]
  },
  {
   "cell_type": "code",
   "execution_count": 9,
   "id": "6218a038",
   "metadata": {},
   "outputs": [
    {
     "name": "stdout",
     "output_type": "stream",
     "text": [
      "['bodybookingdt', 'casefilingdt', 'dispositiondt', 'bodyreleasedt']\n"
     ]
    }
   ],
   "source": [
    "date_cols = [col for col in booking.columns if 'dt' in col]\n",
    "print(date_cols)"
   ]
  },
  {
   "cell_type": "code",
   "execution_count": null,
   "id": "31c74209",
   "metadata": {},
   "outputs": [],
   "source": []
  },
  {
   "cell_type": "code",
   "execution_count": null,
   "id": "933d14b6",
   "metadata": {},
   "outputs": [],
   "source": []
  },
  {
   "cell_type": "code",
   "execution_count": null,
   "id": "48e8c326",
   "metadata": {},
   "outputs": [],
   "source": []
  },
  {
   "cell_type": "code",
   "execution_count": null,
   "id": "79d35060",
   "metadata": {},
   "outputs": [],
   "source": []
  },
  {
   "cell_type": "code",
   "execution_count": null,
   "id": "bce82160",
   "metadata": {},
   "outputs": [],
   "source": []
  },
  {
   "cell_type": "code",
   "execution_count": null,
   "id": "93aae77c",
   "metadata": {},
   "outputs": [],
   "source": []
  },
  {
   "cell_type": "code",
   "execution_count": null,
   "id": "349764d6",
   "metadata": {},
   "outputs": [],
   "source": []
  },
  {
   "cell_type": "code",
   "execution_count": null,
   "id": "5282878e",
   "metadata": {},
   "outputs": [],
   "source": []
  },
  {
   "cell_type": "code",
   "execution_count": null,
   "id": "1533b48d",
   "metadata": {},
   "outputs": [],
   "source": []
  },
  {
   "cell_type": "code",
   "execution_count": null,
   "id": "8cc94483",
   "metadata": {},
   "outputs": [],
   "source": []
  }
 ],
 "metadata": {
  "kernelspec": {
   "display_name": "Python 3",
   "language": "python",
   "name": "python3"
  },
  "language_info": {
   "codemirror_mode": {
    "name": "ipython",
    "version": 3
   },
   "file_extension": ".py",
   "mimetype": "text/x-python",
   "name": "python",
   "nbconvert_exporter": "python",
   "pygments_lexer": "ipython3",
   "version": "3.8.8"
  }
 },
 "nbformat": 4,
 "nbformat_minor": 5
}
