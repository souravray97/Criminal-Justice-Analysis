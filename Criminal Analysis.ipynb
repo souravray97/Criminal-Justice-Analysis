{
 "cells": [
  {
   "cell_type": "code",
   "execution_count": 1,
   "id": "d4a42d99",
   "metadata": {},
   "outputs": [],
   "source": [
    "import pandas as pd"
   ]
  },
  {
   "cell_type": "code",
   "execution_count": 3,
   "id": "90a82134",
   "metadata": {},
   "outputs": [
    {
     "data": {
      "text/html": [
       "<div>\n",
       "<style scoped>\n",
       "    .dataframe tbody tr th:only-of-type {\n",
       "        vertical-align: middle;\n",
       "    }\n",
       "\n",
       "    .dataframe tbody tr th {\n",
       "        vertical-align: top;\n",
       "    }\n",
       "\n",
       "    .dataframe thead th {\n",
       "        text-align: right;\n",
       "    }\n",
       "</style>\n",
       "<table border=\"1\" class=\"dataframe\">\n",
       "  <thead>\n",
       "    <tr style=\"text-align: right;\">\n",
       "      <th></th>\n",
       "      <th>caseid</th>\n",
       "      <th>cdi</th>\n",
       "      <th>casestatus</th>\n",
       "      <th>cmcourt</th>\n",
       "      <th>offensedt</th>\n",
       "      <th>arrestdt</th>\n",
       "      <th>casefilingdt</th>\n",
       "      <th>bookingnumber</th>\n",
       "      <th>bookingdts</th>\n",
       "      <th>releasedts</th>\n",
       "      <th>...</th>\n",
       "      <th>disposition2</th>\n",
       "      <th>disposition2date</th>\n",
       "      <th>disposition3</th>\n",
       "      <th>disposition3date</th>\n",
       "      <th>offensewhileonbond</th>\n",
       "      <th>bondcaseid</th>\n",
       "      <th>bondtype</th>\n",
       "      <th>bondreldt</th>\n",
       "      <th>downloadyr</th>\n",
       "      <th>case_type</th>\n",
       "    </tr>\n",
       "  </thead>\n",
       "  <tbody>\n",
       "    <tr>\n",
       "      <th>0</th>\n",
       "      <td>2.301180e+14</td>\n",
       "      <td>2</td>\n",
       "      <td>I</td>\n",
       "      <td>13</td>\n",
       "      <td>NaN</td>\n",
       "      <td>NaN</td>\n",
       "      <td>2/21/2020</td>\n",
       "      <td>NaN</td>\n",
       "      <td>NaN</td>\n",
       "      <td>NaN</td>\n",
       "      <td>...</td>\n",
       "      <td>NaN</td>\n",
       "      <td>NaN</td>\n",
       "      <td>NaN</td>\n",
       "      <td>NaN</td>\n",
       "      <td>NaN</td>\n",
       "      <td>NaN</td>\n",
       "      <td>NaN</td>\n",
       "      <td>NaN</td>\n",
       "      <td>2020</td>\n",
       "      <td>1</td>\n",
       "    </tr>\n",
       "    <tr>\n",
       "      <th>1</th>\n",
       "      <td>2.301180e+14</td>\n",
       "      <td>2</td>\n",
       "      <td>D</td>\n",
       "      <td>12</td>\n",
       "      <td>NaN</td>\n",
       "      <td>NaN</td>\n",
       "      <td>2/21/2020</td>\n",
       "      <td>NaN</td>\n",
       "      <td>NaN</td>\n",
       "      <td>NaN</td>\n",
       "      <td>...</td>\n",
       "      <td>NaN</td>\n",
       "      <td>NaN</td>\n",
       "      <td>NaN</td>\n",
       "      <td>NaN</td>\n",
       "      <td>NaN</td>\n",
       "      <td>NaN</td>\n",
       "      <td>NaN</td>\n",
       "      <td>NaN</td>\n",
       "      <td>2020</td>\n",
       "      <td>1</td>\n",
       "    </tr>\n",
       "    <tr>\n",
       "      <th>2</th>\n",
       "      <td>2.303550e+14</td>\n",
       "      <td>2</td>\n",
       "      <td>I</td>\n",
       "      <td>2</td>\n",
       "      <td>3/7/2020</td>\n",
       "      <td>3/7/2020</td>\n",
       "      <td>3/8/2020</td>\n",
       "      <td>4370721.0</td>\n",
       "      <td>3/7/2020 20:41</td>\n",
       "      <td>3/17/2020 1:18</td>\n",
       "      <td>...</td>\n",
       "      <td>NaN</td>\n",
       "      <td>NaN</td>\n",
       "      <td>NaN</td>\n",
       "      <td>NaN</td>\n",
       "      <td>N</td>\n",
       "      <td>NaN</td>\n",
       "      <td>NaN</td>\n",
       "      <td>NaN</td>\n",
       "      <td>2020</td>\n",
       "      <td>1</td>\n",
       "    </tr>\n",
       "    <tr>\n",
       "      <th>3</th>\n",
       "      <td>2.303850e+14</td>\n",
       "      <td>2</td>\n",
       "      <td>C</td>\n",
       "      <td>5</td>\n",
       "      <td>NaN</td>\n",
       "      <td>NaN</td>\n",
       "      <td>3/9/2020</td>\n",
       "      <td>4370721.0</td>\n",
       "      <td>3/7/2020 20:41</td>\n",
       "      <td>3/17/2020 1:18</td>\n",
       "      <td>...</td>\n",
       "      <td>NaN</td>\n",
       "      <td>NaN</td>\n",
       "      <td>NaN</td>\n",
       "      <td>NaN</td>\n",
       "      <td>NaN</td>\n",
       "      <td>NaN</td>\n",
       "      <td>NaN</td>\n",
       "      <td>NaN</td>\n",
       "      <td>2020</td>\n",
       "      <td>1</td>\n",
       "    </tr>\n",
       "    <tr>\n",
       "      <th>4</th>\n",
       "      <td>2.309820e+14</td>\n",
       "      <td>2</td>\n",
       "      <td>C</td>\n",
       "      <td>15</td>\n",
       "      <td>5/7/2020</td>\n",
       "      <td>5/7/2020</td>\n",
       "      <td>5/8/2020</td>\n",
       "      <td>4384210.0</td>\n",
       "      <td>5/7/2020 18:31</td>\n",
       "      <td>5/8/2020 9:40</td>\n",
       "      <td>...</td>\n",
       "      <td>NaN</td>\n",
       "      <td>NaN</td>\n",
       "      <td>NaN</td>\n",
       "      <td>NaN</td>\n",
       "      <td>N</td>\n",
       "      <td>NaN</td>\n",
       "      <td>NaN</td>\n",
       "      <td>NaN</td>\n",
       "      <td>2020</td>\n",
       "      <td>1</td>\n",
       "    </tr>\n",
       "  </tbody>\n",
       "</table>\n",
       "<p>5 rows × 88 columns</p>\n",
       "</div>"
      ],
      "text/plain": [
       "         caseid  cdi casestatus  cmcourt offensedt  arrestdt casefilingdt  \\\n",
       "0  2.301180e+14    2          I       13       NaN       NaN    2/21/2020   \n",
       "1  2.301180e+14    2          D       12       NaN       NaN    2/21/2020   \n",
       "2  2.303550e+14    2          I        2  3/7/2020  3/7/2020     3/8/2020   \n",
       "3  2.303850e+14    2          C        5       NaN       NaN     3/9/2020   \n",
       "4  2.309820e+14    2          C       15  5/7/2020  5/7/2020     5/8/2020   \n",
       "\n",
       "   bookingnumber      bookingdts      releasedts  ... disposition2  \\\n",
       "0            NaN             NaN             NaN  ...          NaN   \n",
       "1            NaN             NaN             NaN  ...          NaN   \n",
       "2      4370721.0  3/7/2020 20:41  3/17/2020 1:18  ...          NaN   \n",
       "3      4370721.0  3/7/2020 20:41  3/17/2020 1:18  ...          NaN   \n",
       "4      4384210.0  5/7/2020 18:31   5/8/2020 9:40  ...          NaN   \n",
       "\n",
       "   disposition2date disposition3 disposition3date offensewhileonbond  \\\n",
       "0               NaN          NaN              NaN                NaN   \n",
       "1               NaN          NaN              NaN                NaN   \n",
       "2               NaN          NaN              NaN                  N   \n",
       "3               NaN          NaN              NaN                NaN   \n",
       "4               NaN          NaN              NaN                  N   \n",
       "\n",
       "   bondcaseid  bondtype bondreldt downloadyr  case_type  \n",
       "0         NaN       NaN       NaN       2020          1  \n",
       "1         NaN       NaN       NaN       2020          1  \n",
       "2         NaN       NaN       NaN       2020          1  \n",
       "3         NaN       NaN       NaN       2020          1  \n",
       "4         NaN       NaN       NaN       2020          1  \n",
       "\n",
       "[5 rows x 88 columns]"
      ]
     },
     "execution_count": 3,
     "metadata": {},
     "output_type": "execute_result"
    }
   ],
   "source": [
    "ccd = pd.read_csv(\"ccd2020.csv\")\n",
    "ccd.head()"
   ]
  },
  {
   "cell_type": "code",
   "execution_count": 6,
   "id": "cfd33fbd",
   "metadata": {},
   "outputs": [
    {
     "data": {
      "text/plain": [
       "(45687, 88)"
      ]
     },
     "execution_count": 6,
     "metadata": {},
     "output_type": "execute_result"
    }
   ],
   "source": [
    "ccd.shape"
   ]
  },
  {
   "cell_type": "code",
   "execution_count": 5,
   "id": "a8f5394e",
   "metadata": {},
   "outputs": [
    {
     "data": {
      "text/plain": [
       "['caseid',\n",
       " 'cdi',\n",
       " 'casestatus',\n",
       " 'cmcourt',\n",
       " 'offensedt',\n",
       " 'arrestdt',\n",
       " 'casefilingdt',\n",
       " 'bookingnumber',\n",
       " 'bookingdts',\n",
       " 'releasedts',\n",
       " 'instrumenttype',\n",
       " 'defendantspn',\n",
       " 'sex',\n",
       " 'race',\n",
       " 'ethnicity',\n",
       " 'ccqmhflag',\n",
       " 'mh_indicator',\n",
       " 'homelessindicator',\n",
       " 'birthyyyymm',\n",
       " 'defendantzip',\n",
       " 'level_degree',\n",
       " 'offenseliteral',\n",
       " 'penalcode',\n",
       " 'offenselat',\n",
       " 'offenselng',\n",
       " 'offenseneighborhood',\n",
       " 'ucrgroup',\n",
       " 'ucrviolentflg',\n",
       " 'ucrpropertyflg',\n",
       " 'offensecode',\n",
       " 'nibrscode',\n",
       " 'nibrssubcode',\n",
       " 'bondamount',\n",
       " 'bondtypecd',\n",
       " 'bondtypedsc',\n",
       " 'bondfileddate',\n",
       " 'bondapproveddt',\n",
       " 'primaryoffenselevelatbooking',\n",
       " 'warrantcount',\n",
       " 'firstwarrantissuedt',\n",
       " 'firstwarrantreason',\n",
       " 'firstwarranttype',\n",
       " 'warrantlist',\n",
       " 'attorneystatus',\n",
       " 'attorneystatusdesc',\n",
       " 'iceholds',\n",
       " 'holdforoffenseliteral',\n",
       " 'agencyplacinghold',\n",
       " 'holdplaceddt',\n",
       " 'holdlifteddt',\n",
       " 'probablecauseactiondt',\n",
       " 'probablecause',\n",
       " 'firstsettingdt',\n",
       " 'dispositioncount',\n",
       " 'initialdispositioncourt',\n",
       " 'initialdisposition',\n",
       " 'initialdispositiondt',\n",
       " 'finaldispositioncourt',\n",
       " 'finaldisposition',\n",
       " 'finaldispositiondt',\n",
       " 'casedisposition',\n",
       " 'casecompletiondt',\n",
       " 'emergencyimpactdocket',\n",
       " 'probationdt',\n",
       " 'probation',\n",
       " 'judgementdsc',\n",
       " 'jailtime',\n",
       " 'fine',\n",
       " 'prisontime',\n",
       " 'psadate',\n",
       " 'psapriorviolentconviction',\n",
       " 'ncascalescore',\n",
       " 'nvcascalescore',\n",
       " 'ftascalescore',\n",
       " 'psareleaserecommendation',\n",
       " 'psascorerisk',\n",
       " 'disposition1',\n",
       " 'disposition1date',\n",
       " 'disposition2',\n",
       " 'disposition2date',\n",
       " 'disposition3',\n",
       " 'disposition3date',\n",
       " 'offensewhileonbond',\n",
       " 'bondcaseid',\n",
       " 'bondtype',\n",
       " 'bondreldt',\n",
       " 'downloadyr',\n",
       " 'case_type']"
      ]
     },
     "execution_count": 5,
     "metadata": {},
     "output_type": "execute_result"
    }
   ],
   "source": [
    "list(ccd.columns)"
   ]
  },
  {
   "cell_type": "code",
   "execution_count": 7,
   "id": "3007d33e",
   "metadata": {
    "collapsed": true
   },
   "outputs": [
    {
     "name": "stdout",
     "output_type": "stream",
     "text": [
      "<class 'pandas.core.frame.DataFrame'>\n",
      "RangeIndex: 45687 entries, 0 to 45686\n",
      "Data columns (total 88 columns):\n",
      " #   Column                        Non-Null Count  Dtype  \n",
      "---  ------                        --------------  -----  \n",
      " 0   caseid                        45687 non-null  float64\n",
      " 1   cdi                           45687 non-null  int64  \n",
      " 2   casestatus                    45687 non-null  object \n",
      " 3   cmcourt                       45687 non-null  int64  \n",
      " 4   offensedt                     44650 non-null  object \n",
      " 5   arrestdt                      35834 non-null  object \n",
      " 6   casefilingdt                  45687 non-null  object \n",
      " 7   bookingnumber                 38315 non-null  float64\n",
      " 8   bookingdts                    38315 non-null  object \n",
      " 9   releasedts                    38042 non-null  object \n",
      " 10  instrumenttype                45687 non-null  object \n",
      " 11  defendantspn                  45687 non-null  int64  \n",
      " 12  sex                           45581 non-null  object \n",
      " 13  race                          45442 non-null  object \n",
      " 14  ethnicity                     45074 non-null  object \n",
      " 15  ccqmhflag                     0 non-null      float64\n",
      " 16  mh_indicator                  0 non-null      float64\n",
      " 17  homelessindicator             5801 non-null   object \n",
      " 18  birthyyyymm                   45625 non-null  object \n",
      " 19  defendantzip                  40828 non-null  float64\n",
      " 20  level_degree                  45687 non-null  object \n",
      " 21  offenseliteral                45687 non-null  object \n",
      " 22  penalcode                     44599 non-null  object \n",
      " 23  offenselat                    0 non-null      float64\n",
      " 24  offenselng                    0 non-null      float64\n",
      " 25  offenseneighborhood           0 non-null      float64\n",
      " 26  ucrgroup                      45674 non-null  object \n",
      " 27  ucrviolentflg                 45674 non-null  object \n",
      " 28  ucrpropertyflg                45674 non-null  object \n",
      " 29  offensecode                   45687 non-null  int64  \n",
      " 30  nibrscode                     45687 non-null  object \n",
      " 31  nibrssubcode                  7210 non-null   object \n",
      " 32  bondamount                    45681 non-null  float64\n",
      " 33  bondtypecd                    39342 non-null  object \n",
      " 34  bondtypedsc                   39342 non-null  object \n",
      " 35  bondfileddate                 39291 non-null  object \n",
      " 36  bondapproveddt                39342 non-null  object \n",
      " 37  primaryoffenselevelatbooking  45687 non-null  object \n",
      " 38  warrantcount                  22673 non-null  float64\n",
      " 39  firstwarrantissuedt           22673 non-null  object \n",
      " 40  firstwarrantreason            22673 non-null  object \n",
      " 41  firstwarranttype              22672 non-null  object \n",
      " 42  warrantlist                   22673 non-null  object \n",
      " 43  attorneystatus                24743 non-null  object \n",
      " 44  attorneystatusdesc            24743 non-null  object \n",
      " 45  iceholds                      4204 non-null   object \n",
      " 46  holdforoffenseliteral         4204 non-null   object \n",
      " 47  agencyplacinghold             4204 non-null   object \n",
      " 48  holdplaceddt                  4204 non-null   object \n",
      " 49  holdlifteddt                  4106 non-null   object \n",
      " 50  probablecauseactiondt         6818 non-null   object \n",
      " 51  probablecause                 6818 non-null   object \n",
      " 52  firstsettingdt                42955 non-null  object \n",
      " 53  dispositioncount              27927 non-null  float64\n",
      " 54  initialdispositioncourt       27927 non-null  float64\n",
      " 55  initialdisposition            27927 non-null  object \n",
      " 56  initialdispositiondt          27927 non-null  object \n",
      " 57  finaldispositioncourt         27927 non-null  float64\n",
      " 58  finaldisposition              27927 non-null  object \n",
      " 59  finaldispositiondt            27927 non-null  object \n",
      " 60  casedisposition               28052 non-null  object \n",
      " 61  casecompletiondt              28055 non-null  object \n",
      " 62  emergencyimpactdocket         45687 non-null  object \n",
      " 63  probationdt                   199 non-null    float64\n",
      " 64  probation                     199 non-null    object \n",
      " 65  judgementdsc                  27152 non-null  object \n",
      " 66  jailtime                      7329 non-null   object \n",
      " 67  fine                          833 non-null    float64\n",
      " 68  prisontime                    1378 non-null   object \n",
      " 69  psadate                       4662 non-null   float64\n",
      " 70  psapriorviolentconviction     4662 non-null   float64\n",
      " 71  ncascalescore                 4662 non-null   float64\n",
      " 72  nvcascalescore                4662 non-null   object \n",
      " 73  ftascalescore                 4662 non-null   float64\n",
      " 74  psareleaserecommendation      4662 non-null   object \n",
      " 75  psascorerisk                  4662 non-null   object \n",
      " 76  disposition1                  27927 non-null  object \n",
      " 77  disposition1date              27927 non-null  object \n",
      " 78  disposition2                  71 non-null     object \n",
      " 79  disposition2date              71 non-null     float64\n",
      " 80  disposition3                  0 non-null      float64\n",
      " 81  disposition3date              0 non-null      float64\n",
      " 82  offensewhileonbond            44610 non-null  object \n",
      " 83  bondcaseid                    6366 non-null   float64\n",
      " 84  bondtype                      6366 non-null   object \n",
      " 85  bondreldt                     6366 non-null   object \n",
      " 86  downloadyr                    45687 non-null  int64  \n",
      " 87  case_type                     45687 non-null  int64  \n",
      "dtypes: float64(23), int64(6), object(59)\n",
      "memory usage: 30.7+ MB\n"
     ]
    }
   ],
   "source": [
    "ccd.info()"
   ]
  },
  {
   "cell_type": "code",
   "execution_count": 8,
   "id": "d1e4eb43",
   "metadata": {},
   "outputs": [
    {
     "data": {
      "text/plain": [
       "caseid            0\n",
       "cdi               0\n",
       "casestatus        0\n",
       "cmcourt           0\n",
       "offensedt      1037\n",
       "              ...  \n",
       "bondcaseid    39321\n",
       "bondtype      39321\n",
       "bondreldt     39321\n",
       "downloadyr        0\n",
       "case_type         0\n",
       "Length: 88, dtype: int64"
      ]
     },
     "execution_count": 8,
     "metadata": {},
     "output_type": "execute_result"
    }
   ],
   "source": [
    "ccd.isnull().sum()"
   ]
  },
  {
   "cell_type": "code",
   "execution_count": 10,
   "id": "033fb12d",
   "metadata": {},
   "outputs": [
    {
     "data": {
      "text/plain": [
       "<AxesSubplot:>"
      ]
     },
     "execution_count": 10,
     "metadata": {},
     "output_type": "execute_result"
    },
    {
     "data": {
      "image/png": "[encoded data removed]",
      "text/plain": [
       "<Figure size 432x288 with 1 Axes>"
      ]
     },
     "metadata": {
      "needs_background": "light"
     },
     "output_type": "display_data"
    }
   ],
   "source": [
    "ccd['race'].value_counts().plot(kind='bar')"
   ]
  },
  {
   "cell_type": "code",
   "execution_count": 12,
   "id": "946e105e",
   "metadata": {},
   "outputs": [],
   "source": [
    "ccd = ccd.set_index(pd.to_datetime(ccd['birthyyyymm']))"
   ]
  },
  {
   "cell_type": "code",
   "execution_count": 13,
   "id": "c2f9fb68",
   "metadata": {},
   "outputs": [],
   "source": [
    "ccd['year'] = pd.DatetimeIndex(ccd['birthyyyymm']).year"
   ]
  },
  {
   "cell_type": "code",
   "execution_count": 16,
   "id": "5c66d8df",
   "metadata": {},
   "outputs": [
    {
     "name": "stdout",
     "output_type": "stream",
     "text": [
      "<class 'pandas.core.frame.DataFrame'>\n",
      "DatetimeIndex: 45687 entries, NaT to 1986-09-24\n",
      "Data columns (total 89 columns):\n",
      " #   Column                        Non-Null Count  Dtype  \n",
      "---  ------                        --------------  -----  \n",
      " 0   caseid                        45687 non-null  float64\n",
      " 1   cdi                           45687 non-null  int64  \n",
      " 2   casestatus                    45687 non-null  object \n",
      " 3   cmcourt                       45687 non-null  int64  \n",
      " 4   offensedt                     44650 non-null  object \n",
      " 5   arrestdt                      35834 non-null  object \n",
      " 6   casefilingdt                  45687 non-null  object \n",
      " 7   bookingnumber                 38315 non-null  float64\n",
      " 8   bookingdts                    38315 non-null  object \n",
      " 9   releasedts                    38042 non-null  object \n",
      " 10  instrumenttype                45687 non-null  object \n",
      " 11  defendantspn                  45687 non-null  int64  \n",
      " 12  sex                           45581 non-null  object \n",
      " 13  race                          45442 non-null  object \n",
      " 14  ethnicity                     45074 non-null  object \n",
      " 15  ccqmhflag                     0 non-null      float64\n",
      " 16  mh_indicator                  0 non-null      float64\n",
      " 17  homelessindicator             5801 non-null   object \n",
      " 18  birthyyyymm                   45625 non-null  object \n",
      " 19  defendantzip                  40828 non-null  float64\n",
      " 20  level_degree                  45687 non-null  object \n",
      " 21  offenseliteral                45687 non-null  object \n",
      " 22  penalcode                     44599 non-null  object \n",
      " 23  offenselat                    0 non-null      float64\n",
      " 24  offenselng                    0 non-null      float64\n",
      " 25  offenseneighborhood           0 non-null      float64\n",
      " 26  ucrgroup                      45674 non-null  object \n",
      " 27  ucrviolentflg                 45674 non-null  object \n",
      " 28  ucrpropertyflg                45674 non-null  object \n",
      " 29  offensecode                   45687 non-null  int64  \n",
      " 30  nibrscode                     45687 non-null  object \n",
      " 31  nibrssubcode                  7210 non-null   object \n",
      " 32  bondamount                    45681 non-null  float64\n",
      " 33  bondtypecd                    39342 non-null  object \n",
      " 34  bondtypedsc                   39342 non-null  object \n",
      " 35  bondfileddate                 39291 non-null  object \n",
      " 36  bondapproveddt                39342 non-null  object \n",
      " 37  primaryoffenselevelatbooking  45687 non-null  object \n",
      " 38  warrantcount                  22673 non-null  float64\n",
      " 39  firstwarrantissuedt           22673 non-null  object \n",
      " 40  firstwarrantreason            22673 non-null  object \n",
      " 41  firstwarranttype              22672 non-null  object \n",
      " 42  warrantlist                   22673 non-null  object \n",
      " 43  attorneystatus                24743 non-null  object \n",
      " 44  attorneystatusdesc            24743 non-null  object \n",
      " 45  iceholds                      4204 non-null   object \n",
      " 46  holdforoffenseliteral         4204 non-null   object \n",
      " 47  agencyplacinghold             4204 non-null   object \n",
      " 48  holdplaceddt                  4204 non-null   object \n",
      " 49  holdlifteddt                  4106 non-null   object \n",
      " 50  probablecauseactiondt         6818 non-null   object \n",
      " 51  probablecause                 6818 non-null   object \n",
      " 52  firstsettingdt                42955 non-null  object \n",
      " 53  dispositioncount              27927 non-null  float64\n",
      " 54  initialdispositioncourt       27927 non-null  float64\n",
      " 55  initialdisposition            27927 non-null  object \n",
      " 56  initialdispositiondt          27927 non-null  object \n",
      " 57  finaldispositioncourt         27927 non-null  float64\n",
      " 58  finaldisposition              27927 non-null  object \n",
      " 59  finaldispositiondt            27927 non-null  object \n",
      " 60  casedisposition               28052 non-null  object \n",
      " 61  casecompletiondt              28055 non-null  object \n",
      " 62  emergencyimpactdocket         45687 non-null  object \n",
      " 63  probationdt                   199 non-null    float64\n",
      " 64  probation                     199 non-null    object \n",
      " 65  judgementdsc                  27152 non-null  object \n",
      " 66  jailtime                      7329 non-null   object \n",
      " 67  fine                          833 non-null    float64\n",
      " 68  prisontime                    1378 non-null   object \n",
      " 69  psadate                       4662 non-null   float64\n",
      " 70  psapriorviolentconviction     4662 non-null   float64\n",
      " 71  ncascalescore                 4662 non-null   float64\n",
      " 72  nvcascalescore                4662 non-null   object \n",
      " 73  ftascalescore                 4662 non-null   float64\n",
      " 74  psareleaserecommendation      4662 non-null   object \n",
      " 75  psascorerisk                  4662 non-null   object \n",
      " 76  disposition1                  27927 non-null  object \n",
      " 77  disposition1date              27927 non-null  object \n",
      " 78  disposition2                  71 non-null     object \n",
      " 79  disposition2date              71 non-null     float64\n",
      " 80  disposition3                  0 non-null      float64\n",
      " 81  disposition3date              0 non-null      float64\n",
      " 82  offensewhileonbond            44610 non-null  object \n",
      " 83  bondcaseid                    6366 non-null   float64\n",
      " 84  bondtype                      6366 non-null   object \n",
      " 85  bondreldt                     6366 non-null   object \n",
      " 86  downloadyr                    45687 non-null  int64  \n",
      " 87  case_type                     45687 non-null  int64  \n",
      " 88  year                          45625 non-null  float64\n",
      "dtypes: float64(24), int64(6), object(59)\n",
      "memory usage: 31.4+ MB\n"
     ]
    }
   ],
   "source": [
    "ccd.info()"
   ]
  },
  {
   "cell_type": "code",
   "execution_count": 17,
   "id": "a68f7a39",
   "metadata": {},
   "outputs": [],
   "source": [
    "ccd['age'] = ccd['downloadyr'] - ccd['year']"
   ]
  },
  {
   "cell_type": "code",
   "execution_count": 18,
   "id": "95e3eaee",
   "metadata": {},
   "outputs": [
    {
     "data": {
      "text/plain": [
       "array([[<AxesSubplot:title={'center':'age'}>]], dtype=object)"
      ]
     },
     "execution_count": 18,
     "metadata": {},
     "output_type": "execute_result"
    },
    {
     "data": {
      "image/png": "[encoded data removed]",
      "text/plain": [
       "<Figure size 432x288 with 1 Axes>"
      ]
     },
     "metadata": {
      "needs_background": "light"
     },
     "output_type": "display_data"
    }
   ],
   "source": [
    "ccd.hist(column = 'age')"
   ]
  },
  {
   "cell_type": "code",
   "execution_count": 19,
   "id": "5beeaafc",
   "metadata": {},
   "outputs": [
    {
     "data": {
      "text/plain": [
       "count    45625.000000\n",
       "mean        33.204888\n",
       "std         11.473197\n",
       "min          0.000000\n",
       "25%         24.000000\n",
       "50%         31.000000\n",
       "75%         40.000000\n",
       "max        100.000000\n",
       "Name: age, dtype: float64"
      ]
     },
     "execution_count": 19,
     "metadata": {},
     "output_type": "execute_result"
    }
   ],
   "source": [
    "ccd['age'].describe()"
   ]
  },
  {
   "cell_type": "code",
   "execution_count": 21,
   "id": "3b62f162",
   "metadata": {},
   "outputs": [
    {
     "data": {
      "text/plain": [
       "<AxesSubplot:title={'center':'Age of the defendant'}>"
      ]
     },
     "execution_count": 21,
     "metadata": {},
     "output_type": "execute_result"
    },
    {
     "data": {
      "image/png": "[encoded data removed]",
      "text/plain": [
       "<Figure size 432x288 with 1 Axes>"
      ]
     },
     "metadata": {
      "needs_background": "light"
     },
     "output_type": "display_data"
    }
   ],
   "source": [
    "ccd['age'].plot(kind='box', title='Age of the defendant')"
   ]
  }
 ],
 "metadata": {
  "kernelspec": {
   "display_name": "Python 3",
   "language": "python",
   "name": "python3"
  },
  "language_info": {
   "codemirror_mode": {
    "name": "ipython",
    "version": 3
   },
   "file_extension": ".py",
   "mimetype": "text/x-python",
   "name": "python",
   "nbconvert_exporter": "python",
   "pygments_lexer": "ipython3",
   "version": "3.8.8"
  }
 },
 "nbformat": 4,
 "nbformat_minor": 5
}
