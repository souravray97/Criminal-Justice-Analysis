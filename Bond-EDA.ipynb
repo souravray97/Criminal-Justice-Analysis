{
 "cells": [
  {
   "cell_type": "code",
   "execution_count": 1,
   "id": "f8b863f5",
   "metadata": {},
   "outputs": [],
   "source": [
    "import pandas as pd"
   ]
  },
  {
   "cell_type": "code",
   "execution_count": 2,
   "id": "8f5ba306",
   "metadata": {},
   "outputs": [
    {
     "name": "stderr",
     "output_type": "stream",
     "text": [
      "C:\\Users\\Sourav Ray\\anaconda3\\lib\\site-packages\\IPython\\core\\interactiveshell.py:3165: DtypeWarning: Columns (1) have mixed types.Specify dtype option on import or set low_memory=False.\n",
      "  has_raised = await self.run_ast_nodes(code_ast.body, cell_name,\n"
     ]
    }
   ],
   "source": [
    "bond = pd.read_csv(\"Bond.csv\")"
   ]
  },
  {
   "cell_type": "code",
   "execution_count": 3,
   "id": "8d132356",
   "metadata": {},
   "outputs": [
    {
     "data": {
      "text/html": [
       "<div>\n",
       "<style scoped>\n",
       "    .dataframe tbody tr th:only-of-type {\n",
       "        vertical-align: middle;\n",
       "    }\n",
       "\n",
       "    .dataframe tbody tr th {\n",
       "        vertical-align: top;\n",
       "    }\n",
       "\n",
       "    .dataframe thead th {\n",
       "        text-align: right;\n",
       "    }\n",
       "</style>\n",
       "<table border=\"1\" class=\"dataframe\">\n",
       "  <thead>\n",
       "    <tr style=\"text-align: right;\">\n",
       "      <th></th>\n",
       "      <th>Unnamed: 0</th>\n",
       "      <th>caseid</th>\n",
       "      <th>courtdivision</th>\n",
       "      <th>defendantspn</th>\n",
       "      <th>bondapprovalid</th>\n",
       "      <th>bookingid</th>\n",
       "      <th>casefilingdt</th>\n",
       "      <th>bodybookingdt</th>\n",
       "      <th>bodyreleasedt</th>\n",
       "      <th>releasereasoncd</th>\n",
       "      <th>...</th>\n",
       "      <th>nextviolentoffensegroup</th>\n",
       "      <th>nextviolentoffenseleveldegree</th>\n",
       "      <th>nextviolentoffensepriortodispofl</th>\n",
       "      <th>monthstillnextarrestgroup</th>\n",
       "      <th>next_bookingdt</th>\n",
       "      <th>next_bookingnumber</th>\n",
       "      <th>next_primaryoffenselevelatbookin</th>\n",
       "      <th>next_highetoffenseatbooking</th>\n",
       "      <th>possibleftaflg</th>\n",
       "      <th>downloadyr</th>\n",
       "    </tr>\n",
       "  </thead>\n",
       "  <tbody>\n",
       "    <tr>\n",
       "      <th>0</th>\n",
       "      <td>1</td>\n",
       "      <td>200203301010002</td>\n",
       "      <td>2.0</td>\n",
       "      <td>2384745.0</td>\n",
       "      <td>200203301010002|20150101</td>\n",
       "      <td>003800267|02384745</td>\n",
       "      <td>2015-01-01</td>\n",
       "      <td>2015-01-01</td>\n",
       "      <td>2015-01-02</td>\n",
       "      <td>CABD</td>\n",
       "      <td>...</td>\n",
       "      <td>NaN</td>\n",
       "      <td>NaN</td>\n",
       "      <td>N</td>\n",
       "      <td>NaN</td>\n",
       "      <td>NaN</td>\n",
       "      <td>NaN</td>\n",
       "      <td>NaN</td>\n",
       "      <td>NaN</td>\n",
       "      <td>NaN</td>\n",
       "      <td>2015</td>\n",
       "    </tr>\n",
       "    <tr>\n",
       "      <th>1</th>\n",
       "      <td>2</td>\n",
       "      <td>200198701010002</td>\n",
       "      <td>2.0</td>\n",
       "      <td>2772002.0</td>\n",
       "      <td>200198701010002|20150101</td>\n",
       "      <td>02772002_20150101</td>\n",
       "      <td>2015-01-01</td>\n",
       "      <td>2015-01-01</td>\n",
       "      <td>2015-01-01</td>\n",
       "      <td>NaN</td>\n",
       "      <td>...</td>\n",
       "      <td>NaN</td>\n",
       "      <td>NaN</td>\n",
       "      <td>N</td>\n",
       "      <td>NaN</td>\n",
       "      <td>NaN</td>\n",
       "      <td>NaN</td>\n",
       "      <td>NaN</td>\n",
       "      <td>NaN</td>\n",
       "      <td>NaN</td>\n",
       "      <td>2015</td>\n",
       "    </tr>\n",
       "    <tr>\n",
       "      <th>2</th>\n",
       "      <td>3</td>\n",
       "      <td>200198901010002</td>\n",
       "      <td>2.0</td>\n",
       "      <td>2772004.0</td>\n",
       "      <td>200198901010002|20150101</td>\n",
       "      <td>02772004_20150101</td>\n",
       "      <td>2015-01-01</td>\n",
       "      <td>2015-01-01</td>\n",
       "      <td>2015-01-01</td>\n",
       "      <td>NaN</td>\n",
       "      <td>...</td>\n",
       "      <td>NaN</td>\n",
       "      <td>NaN</td>\n",
       "      <td>N</td>\n",
       "      <td>03-06</td>\n",
       "      <td>2015-06-13</td>\n",
       "      <td>3846782.0</td>\n",
       "      <td>Misdemeanor</td>\n",
       "      <td>DWI BAC&gt;=0.15</td>\n",
       "      <td>NaN</td>\n",
       "      <td>2015</td>\n",
       "    </tr>\n",
       "    <tr>\n",
       "      <th>3</th>\n",
       "      <td>4</td>\n",
       "      <td>200199301010002</td>\n",
       "      <td>2.0</td>\n",
       "      <td>2772006.0</td>\n",
       "      <td>200199301010002|20150101</td>\n",
       "      <td>02772006_20150101</td>\n",
       "      <td>2015-01-01</td>\n",
       "      <td>2015-01-01</td>\n",
       "      <td>2015-01-01</td>\n",
       "      <td>NaN</td>\n",
       "      <td>...</td>\n",
       "      <td>NaN</td>\n",
       "      <td>NaN</td>\n",
       "      <td>N</td>\n",
       "      <td>NaN</td>\n",
       "      <td>NaN</td>\n",
       "      <td>NaN</td>\n",
       "      <td>NaN</td>\n",
       "      <td>NaN</td>\n",
       "      <td>NaN</td>\n",
       "      <td>2015</td>\n",
       "    </tr>\n",
       "    <tr>\n",
       "      <th>4</th>\n",
       "      <td>5</td>\n",
       "      <td>200199501010002</td>\n",
       "      <td>2.0</td>\n",
       "      <td>2772012.0</td>\n",
       "      <td>200199501010002|20150101</td>\n",
       "      <td>02772012_20150101</td>\n",
       "      <td>2015-01-01</td>\n",
       "      <td>2015-01-01</td>\n",
       "      <td>2015-01-01</td>\n",
       "      <td>NaN</td>\n",
       "      <td>...</td>\n",
       "      <td>NaN</td>\n",
       "      <td>NaN</td>\n",
       "      <td>N</td>\n",
       "      <td>NaN</td>\n",
       "      <td>NaN</td>\n",
       "      <td>NaN</td>\n",
       "      <td>NaN</td>\n",
       "      <td>NaN</td>\n",
       "      <td>NaN</td>\n",
       "      <td>2015</td>\n",
       "    </tr>\n",
       "  </tbody>\n",
       "</table>\n",
       "<p>5 rows × 46 columns</p>\n",
       "</div>"
      ],
      "text/plain": [
       "   Unnamed: 0           caseid  courtdivision  defendantspn  \\\n",
       "0           1  200203301010002            2.0     2384745.0   \n",
       "1           2  200198701010002            2.0     2772002.0   \n",
       "2           3  200198901010002            2.0     2772004.0   \n",
       "3           4  200199301010002            2.0     2772006.0   \n",
       "4           5  200199501010002            2.0     2772012.0   \n",
       "\n",
       "             bondapprovalid           bookingid casefilingdt bodybookingdt  \\\n",
       "0  200203301010002|20150101  003800267|02384745   2015-01-01    2015-01-01   \n",
       "1  200198701010002|20150101   02772002_20150101   2015-01-01    2015-01-01   \n",
       "2  200198901010002|20150101   02772004_20150101   2015-01-01    2015-01-01   \n",
       "3  200199301010002|20150101   02772006_20150101   2015-01-01    2015-01-01   \n",
       "4  200199501010002|20150101   02772012_20150101   2015-01-01    2015-01-01   \n",
       "\n",
       "  bodyreleasedt releasereasoncd  ...  nextviolentoffensegroup  \\\n",
       "0    2015-01-02            CABD  ...                      NaN   \n",
       "1    2015-01-01             NaN  ...                      NaN   \n",
       "2    2015-01-01             NaN  ...                      NaN   \n",
       "3    2015-01-01             NaN  ...                      NaN   \n",
       "4    2015-01-01             NaN  ...                      NaN   \n",
       "\n",
       "  nextviolentoffenseleveldegree  nextviolentoffensepriortodispofl  \\\n",
       "0                           NaN                                 N   \n",
       "1                           NaN                                 N   \n",
       "2                           NaN                                 N   \n",
       "3                           NaN                                 N   \n",
       "4                           NaN                                 N   \n",
       "\n",
       "  monthstillnextarrestgroup next_bookingdt  next_bookingnumber  \\\n",
       "0                       NaN            NaN                 NaN   \n",
       "1                       NaN            NaN                 NaN   \n",
       "2                     03-06     2015-06-13           3846782.0   \n",
       "3                       NaN            NaN                 NaN   \n",
       "4                       NaN            NaN                 NaN   \n",
       "\n",
       "   next_primaryoffenselevelatbookin next_highetoffenseatbooking  \\\n",
       "0                               NaN                         NaN   \n",
       "1                               NaN                         NaN   \n",
       "2                       Misdemeanor               DWI BAC>=0.15   \n",
       "3                               NaN                         NaN   \n",
       "4                               NaN                         NaN   \n",
       "\n",
       "  possibleftaflg downloadyr  \n",
       "0            NaN       2015  \n",
       "1            NaN       2015  \n",
       "2            NaN       2015  \n",
       "3            NaN       2015  \n",
       "4            NaN       2015  \n",
       "\n",
       "[5 rows x 46 columns]"
      ]
     },
     "execution_count": 3,
     "metadata": {},
     "output_type": "execute_result"
    }
   ],
   "source": [
    "bond.head()"
   ]
  },
  {
   "cell_type": "code",
   "execution_count": 4,
   "id": "08170c66",
   "metadata": {
    "scrolled": true
   },
   "outputs": [
    {
     "data": {
      "text/plain": [
       "(542261, 46)"
      ]
     },
     "execution_count": 4,
     "metadata": {},
     "output_type": "execute_result"
    }
   ],
   "source": [
    "bond.shape"
   ]
  },
  {
   "cell_type": "code",
   "execution_count": 5,
   "id": "62e12b02",
   "metadata": {},
   "outputs": [
    {
     "data": {
      "text/plain": [
       "['Unnamed: 0',\n",
       " 'caseid',\n",
       " 'courtdivision',\n",
       " 'defendantspn',\n",
       " 'bondapprovalid',\n",
       " 'bookingid',\n",
       " 'casefilingdt',\n",
       " 'bodybookingdt',\n",
       " 'bodyreleasedt',\n",
       " 'releasereasoncd',\n",
       " 'caseidbybondidrn',\n",
       " 'bondapproveddt',\n",
       " 'bookingidbybondapprovalidrn',\n",
       " 'bondtypedsc',\n",
       " 'bondgroup',\n",
       " 'bondamount',\n",
       " 'bondamountmade',\n",
       " 'typeofwarrantissued',\n",
       " 'warrantactivityreason',\n",
       " 'bondenddt',\n",
       " 'bondfailuredt',\n",
       " 'casedispositiondt',\n",
       " 'dispotype',\n",
       " 'terminationdt',\n",
       " 'daysfromreleasetotermination',\n",
       " 'nextoffensewhileonbondflg',\n",
       " 'nextoffensepriortodispoflg',\n",
       " 'nextoffenseviolentorseriousflg',\n",
       " 'nextoffensedt',\n",
       " 'nextoffenseliteral',\n",
       " 'nextoffensegroup',\n",
       " 'nextoffenseleveldegree',\n",
       " 'nextoffensecaseid',\n",
       " 'nextviolentoffensewhileonbondflg',\n",
       " 'nextviolentoffensedt',\n",
       " 'nextviolentoffenseliteral',\n",
       " 'nextviolentoffensegroup',\n",
       " 'nextviolentoffenseleveldegree',\n",
       " 'nextviolentoffensepriortodispofl',\n",
       " 'monthstillnextarrestgroup',\n",
       " 'next_bookingdt',\n",
       " 'next_bookingnumber',\n",
       " 'next_primaryoffenselevelatbookin',\n",
       " 'next_highetoffenseatbooking',\n",
       " 'possibleftaflg',\n",
       " 'downloadyr']"
      ]
     },
     "execution_count": 5,
     "metadata": {},
     "output_type": "execute_result"
    }
   ],
   "source": [
    "list(bond.columns)"
   ]
  },
  {
   "cell_type": "code",
   "execution_count": 6,
   "id": "0b2c0238",
   "metadata": {},
   "outputs": [],
   "source": [
    "bond.drop(\"Unnamed: 0\", axis = 1, inplace = True)"
   ]
  },
  {
   "cell_type": "code",
   "execution_count": 8,
   "id": "3cc51cc7",
   "metadata": {},
   "outputs": [
    {
     "data": {
      "text/plain": [
       "array([[<AxesSubplot:title={'center':'bondamount'}>]], dtype=object)"
      ]
     },
     "execution_count": 8,
     "metadata": {},
     "output_type": "execute_result"
    },
    {
     "data": {
      "image/png": "[encoded data removed]",
      "text/plain": [
       "<Figure size 432x288 with 1 Axes>"
      ]
     },
     "metadata": {
      "needs_background": "light"
     },
     "output_type": "display_data"
    }
   ],
   "source": [
    "bond.hist(column = 'bondamount', bins = 30)"
   ]
  },
  {
   "cell_type": "code",
   "execution_count": null,
   "id": "d1d540c2",
   "metadata": {},
   "outputs": [],
   "source": []
  },
  {
   "cell_type": "code",
   "execution_count": null,
   "id": "a87d7d8f",
   "metadata": {},
   "outputs": [],
   "source": []
  },
  {
   "cell_type": "code",
   "execution_count": null,
   "id": "6a7e07e9",
   "metadata": {},
   "outputs": [],
   "source": []
  }
 ],
 "metadata": {
  "kernelspec": {
   "display_name": "Python 3",
   "language": "python",
   "name": "python3"
  },
  "language_info": {
   "codemirror_mode": {
    "name": "ipython",
    "version": 3
   },
   "file_extension": ".py",
   "mimetype": "text/x-python",
   "name": "python",
   "nbconvert_exporter": "python",
   "pygments_lexer": "ipython3",
   "version": "3.8.8"
  }
 },
 "nbformat": 4,
 "nbformat_minor": 5
}
