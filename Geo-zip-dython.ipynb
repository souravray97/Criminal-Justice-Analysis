{
 "cells": [
  {
   "cell_type": "markdown",
   "id": "e7b02d7d",
   "metadata": {},
   "source": [
    "### For converting latitude and longitude into census identifiable geoid"
   ]
  },
  {
   "cell_type": "code",
   "execution_count": 5,
   "id": "51104a48",
   "metadata": {},
   "outputs": [
    {
     "data": {
      "text/html": [
       "<div>\n",
       "<style scoped>\n",
       "    .dataframe tbody tr th:only-of-type {\n",
       "        vertical-align: middle;\n",
       "    }\n",
       "\n",
       "    .dataframe tbody tr th {\n",
       "        vertical-align: top;\n",
       "    }\n",
       "\n",
       "    .dataframe thead th {\n",
       "        text-align: right;\n",
       "    }\n",
       "</style>\n",
       "<table border=\"1\" class=\"dataframe\">\n",
       "  <thead>\n",
       "    <tr style=\"text-align: right;\">\n",
       "      <th></th>\n",
       "      <th>Latitude_Defendant_Address</th>\n",
       "      <th>Longitude_Defendant_Address</th>\n",
       "    </tr>\n",
       "  </thead>\n",
       "  <tbody>\n",
       "    <tr>\n",
       "      <th>0</th>\n",
       "      <td>29.622726</td>\n",
       "      <td>-95.647873</td>\n",
       "    </tr>\n",
       "    <tr>\n",
       "      <th>1</th>\n",
       "      <td>29.621316</td>\n",
       "      <td>-95.562225</td>\n",
       "    </tr>\n",
       "    <tr>\n",
       "      <th>2</th>\n",
       "      <td>29.627645</td>\n",
       "      <td>-95.635597</td>\n",
       "    </tr>\n",
       "    <tr>\n",
       "      <th>3</th>\n",
       "      <td>29.525902</td>\n",
       "      <td>-95.531735</td>\n",
       "    </tr>\n",
       "    <tr>\n",
       "      <th>4</th>\n",
       "      <td>29.753968</td>\n",
       "      <td>-95.810176</td>\n",
       "    </tr>\n",
       "    <tr>\n",
       "      <th>5</th>\n",
       "      <td>29.622726</td>\n",
       "      <td>-95.647873</td>\n",
       "    </tr>\n",
       "  </tbody>\n",
       "</table>\n",
       "</div>"
      ],
      "text/plain": [
       "   Latitude_Defendant_Address  Longitude_Defendant_Address\n",
       "0                   29.622726                   -95.647873\n",
       "1                   29.621316                   -95.562225\n",
       "2                   29.627645                   -95.635597\n",
       "3                   29.525902                   -95.531735\n",
       "4                   29.753968                   -95.810176\n",
       "5                   29.622726                   -95.647873"
      ]
     },
     "execution_count": 5,
     "metadata": {},
     "output_type": "execute_result"
    }
   ],
   "source": [
    "mini"
   ]
  },
  {
   "cell_type": "code",
   "execution_count": null,
   "id": "e45e3812",
   "metadata": {},
   "outputs": [],
   "source": [
    "mini.columns = ['lat', 'lng']"
   ]
  },
  {
   "cell_type": "code",
   "execution_count": 6,
   "id": "afff76c7",
   "metadata": {},
   "outputs": [],
   "source": [
    "import pandas as pd\n",
    "import censusgeocode as cg\n",
    "from random import uniform\n",
    "from concurrent.futures import ThreadPoolExecutor\n",
    "from tqdm.notebook import tqdm"
   ]
  },
  {
   "cell_type": "code",
   "execution_count": 7,
   "id": "1e9b778d",
   "metadata": {},
   "outputs": [
    {
     "data": {
      "application/vnd.jupyter.widget-view+json": {
       "model_id": "16555b0334724e4b974a3cd9b7a31aab",
       "version_major": 2,
       "version_minor": 0
      },
      "text/plain": [
       "  0%|          | 0/6 [00:00<?, ?it/s]"
      ]
     },
     "metadata": {},
     "output_type": "display_data"
    }
   ],
   "source": [
    "def geocode(row):\n",
    "    index, lat, lng = row\n",
    "    try:\n",
    "        census = cg.coordinates(lng, lat)['2020 Census Blocks'][0]\n",
    "\n",
    "        data = dict(geoid=census['GEOID'], \n",
    "                    state = census['STATE'],\n",
    "                    county = census['COUNTY'],\n",
    "                    lat=lat, \n",
    "                    lng=lng)\n",
    "\n",
    "    except Exception as e:\n",
    "        data = dict(lat=lat, \n",
    "                    lng=lng)\n",
    "\n",
    "    return data\n",
    "\n",
    "with ThreadPoolExecutor() as tpe:\n",
    "     data = list(tqdm(tpe.map(geocode, mini.itertuples()), total=len(mini)))\n",
    "df = pd.DataFrame.from_records(data)"
   ]
  },
  {
   "cell_type": "code",
   "execution_count": 8,
   "id": "55d24a54",
   "metadata": {},
   "outputs": [
    {
     "data": {
      "text/html": [
       "<div>\n",
       "<style scoped>\n",
       "    .dataframe tbody tr th:only-of-type {\n",
       "        vertical-align: middle;\n",
       "    }\n",
       "\n",
       "    .dataframe tbody tr th {\n",
       "        vertical-align: top;\n",
       "    }\n",
       "\n",
       "    .dataframe thead th {\n",
       "        text-align: right;\n",
       "    }\n",
       "</style>\n",
       "<table border=\"1\" class=\"dataframe\">\n",
       "  <thead>\n",
       "    <tr style=\"text-align: right;\">\n",
       "      <th></th>\n",
       "      <th>geoid</th>\n",
       "      <th>state</th>\n",
       "      <th>county</th>\n",
       "      <th>lat</th>\n",
       "      <th>lng</th>\n",
       "    </tr>\n",
       "  </thead>\n",
       "  <tbody>\n",
       "    <tr>\n",
       "      <th>0</th>\n",
       "      <td>481576722011005</td>\n",
       "      <td>48</td>\n",
       "      <td>157</td>\n",
       "      <td>29.622726</td>\n",
       "      <td>-95.647873</td>\n",
       "    </tr>\n",
       "    <tr>\n",
       "      <th>1</th>\n",
       "      <td>481576718002080</td>\n",
       "      <td>48</td>\n",
       "      <td>157</td>\n",
       "      <td>29.621316</td>\n",
       "      <td>-95.562225</td>\n",
       "    </tr>\n",
       "    <tr>\n",
       "      <th>2</th>\n",
       "      <td>481576722022028</td>\n",
       "      <td>48</td>\n",
       "      <td>157</td>\n",
       "      <td>29.627645</td>\n",
       "      <td>-95.635597</td>\n",
       "    </tr>\n",
       "    <tr>\n",
       "      <th>3</th>\n",
       "      <td>481576745081015</td>\n",
       "      <td>48</td>\n",
       "      <td>157</td>\n",
       "      <td>29.525902</td>\n",
       "      <td>-95.531735</td>\n",
       "    </tr>\n",
       "    <tr>\n",
       "      <th>4</th>\n",
       "      <td>481576731032014</td>\n",
       "      <td>48</td>\n",
       "      <td>157</td>\n",
       "      <td>29.753968</td>\n",
       "      <td>-95.810176</td>\n",
       "    </tr>\n",
       "    <tr>\n",
       "      <th>5</th>\n",
       "      <td>481576722011005</td>\n",
       "      <td>48</td>\n",
       "      <td>157</td>\n",
       "      <td>29.622726</td>\n",
       "      <td>-95.647873</td>\n",
       "    </tr>\n",
       "  </tbody>\n",
       "</table>\n",
       "</div>"
      ],
      "text/plain": [
       "             geoid state county        lat        lng\n",
       "0  481576722011005    48    157  29.622726 -95.647873\n",
       "1  481576718002080    48    157  29.621316 -95.562225\n",
       "2  481576722022028    48    157  29.627645 -95.635597\n",
       "3  481576745081015    48    157  29.525902 -95.531735\n",
       "4  481576731032014    48    157  29.753968 -95.810176\n",
       "5  481576722011005    48    157  29.622726 -95.647873"
      ]
     },
     "execution_count": 8,
     "metadata": {},
     "output_type": "execute_result"
    }
   ],
   "source": [
    "df"
   ]
  },
  {
   "cell_type": "markdown",
   "id": "ff9293d7",
   "metadata": {},
   "source": [
    "### Extraction of zip code from addresses of varied length using Regex "
   ]
  },
  {
   "cell_type": "code",
   "execution_count": null,
   "id": "23c50b6b",
   "metadata": {},
   "outputs": [],
   "source": [
    "import re\n",
    "\n",
    "us_zip = r'(\\d{5}\\-?\\d{0,4})'\n",
    "\n",
    "main['ZipCode'] = main['defendantAddressAtCaseFiling.x'].str.extract(r\"\\b(\\d{5})\\b\")"
   ]
  },
  {
   "cell_type": "markdown",
   "id": "c2bde06d",
   "metadata": {},
   "source": [
    "### Correlation coefficient for dataset with mixed variables"
   ]
  },
  {
   "cell_type": "code",
   "execution_count": 1,
   "id": "f578e5c6",
   "metadata": {
    "collapsed": true
   },
   "outputs": [
    {
     "name": "stdout",
     "output_type": "stream",
     "text": [
      "Requirement already satisfied: dython in c:\\users\\sourav ray\\anaconda3\\lib\\site-packages (0.7.1.post3)\n",
      "Requirement already satisfied: seaborn>=0.11.0 in c:\\users\\sourav ray\\anaconda3\\lib\\site-packages (from dython) (0.11.1)\n",
      "Requirement already satisfied: numpy>=1.19.5 in c:\\users\\sourav ray\\anaconda3\\lib\\site-packages (from dython) (1.20.1)\n",
      "Requirement already satisfied: scipy>=1.7.1 in c:\\users\\sourav ray\\anaconda3\\lib\\site-packages (from dython) (1.8.1)\n",
      "Requirement already satisfied: scikit-plot>=0.3.7 in c:\\users\\sourav ray\\anaconda3\\lib\\site-packages (from dython) (0.3.7)\n",
      "Requirement already satisfied: pandas>=1.3.2 in c:\\users\\sourav ray\\anaconda3\\lib\\site-packages (from dython) (1.4.2)\n",
      "Requirement already satisfied: scikit-learn>=0.24.2 in c:\\users\\sourav ray\\anaconda3\\lib\\site-packages (from dython) (1.1.1)\n",
      "Requirement already satisfied: matplotlib>=3.4.3 in c:\\users\\sourav ray\\anaconda3\\lib\\site-packages (from dython) (3.5.2)\n",
      "Requirement already satisfied: cycler>=0.10 in c:\\users\\sourav ray\\anaconda3\\lib\\site-packages (from matplotlib>=3.4.3->dython) (0.10.0)\n",
      "Requirement already satisfied: kiwisolver>=1.0.1 in c:\\users\\sourav ray\\anaconda3\\lib\\site-packages (from matplotlib>=3.4.3->dython) (1.3.1)\n",
      "Requirement already satisfied: python-dateutil>=2.7 in c:\\users\\sourav ray\\anaconda3\\lib\\site-packages (from matplotlib>=3.4.3->dython) (2.8.1)\n",
      "Requirement already satisfied: pyparsing>=2.2.1 in c:\\users\\sourav ray\\anaconda3\\lib\\site-packages (from matplotlib>=3.4.3->dython) (2.4.7)\n",
      "Requirement already satisfied: pillow>=6.2.0 in c:\\users\\sourav ray\\anaconda3\\lib\\site-packages (from matplotlib>=3.4.3->dython) (8.2.0)\n",
      "Requirement already satisfied: fonttools>=4.22.0 in c:\\users\\sourav ray\\anaconda3\\lib\\site-packages (from matplotlib>=3.4.3->dython) (4.33.3)\n",
      "Requirement already satisfied: packaging>=20.0 in c:\\users\\sourav ray\\anaconda3\\lib\\site-packages (from matplotlib>=3.4.3->dython) (20.9)\n",
      "Requirement already satisfied: six in c:\\users\\sourav ray\\anaconda3\\lib\\site-packages (from cycler>=0.10->matplotlib>=3.4.3->dython) (1.15.0)\n",
      "Requirement already satisfied: pytz>=2020.1 in c:\\users\\sourav ray\\anaconda3\\lib\\site-packages (from pandas>=1.3.2->dython) (2021.1)\n",
      "Requirement already satisfied: joblib>=1.0.0 in c:\\users\\sourav ray\\anaconda3\\lib\\site-packages (from scikit-learn>=0.24.2->dython) (1.0.1)\n",
      "Requirement already satisfied: threadpoolctl>=2.0.0 in c:\\users\\sourav ray\\anaconda3\\lib\\site-packages (from scikit-learn>=0.24.2->dython) (2.1.0)\n"
     ]
    }
   ],
   "source": [
    "!pip install dython"
   ]
  },
  {
   "cell_type": "code",
   "execution_count": 2,
   "id": "be3a8ac3",
   "metadata": {},
   "outputs": [],
   "source": [
    "import pandas as pd\n",
    "import matplotlib.pyplot as plt"
   ]
  },
  {
   "cell_type": "code",
   "execution_count": 36,
   "id": "4bac53ab",
   "metadata": {},
   "outputs": [
    {
     "name": "stderr",
     "output_type": "stream",
     "text": [
      "<ipython-input-36-7a8c1c19227c>:1: DtypeWarning: Columns (68) have mixed types. Specify dtype option on import or set low_memory=False.\n",
      "  ccd = pd.read_csv(\"ccd-new.csv\", encoding = 'latin')\n"
     ]
    }
   ],
   "source": [
    "ccd = pd.read_csv(\"ccd-new.csv\", encoding = 'latin')"
   ]
  },
  {
   "cell_type": "code",
   "execution_count": 38,
   "id": "d62cfe9b",
   "metadata": {},
   "outputs": [],
   "source": [
    "ccd['BirthYear'] = ccd['BirthMonthYear'].str.strip().str[0:4]\n",
    "\n",
    "\n",
    "ccd['CaseFilingYear'].astype(str).astype(float)\n",
    "\n",
    "ccd['BirthYear'] = pd.to_numeric(ccd['BirthYear'])\n",
    "\n",
    "ccd['Age'] = ccd['CaseFilingYear'] - ccd['BirthYear']"
   ]
  },
  {
   "cell_type": "code",
   "execution_count": 39,
   "id": "919f2f3e",
   "metadata": {},
   "outputs": [],
   "source": [
    "from dython.nominal import identify_nominal_columns\n",
    "from dython.nominal import associations"
   ]
  },
  {
   "cell_type": "code",
   "execution_count": 7,
   "id": "6a6288cb",
   "metadata": {
    "collapsed": true
   },
   "outputs": [
    {
     "data": {
      "text/plain": [
       "['LEAIncidentNum',\n",
       " 'LEAgency',\n",
       " 'CaseStatus',\n",
       " 'OffenseDT',\n",
       " 'ArrestDT',\n",
       " 'CaseFilingDT',\n",
       " 'PrimaryOffenseLevelAtBooking',\n",
       " 'BookingDTS',\n",
       " 'ReleaseDTS',\n",
       " 'ICEHolds',\n",
       " 'HoldForOffenseLiteral',\n",
       " 'AgencyPlacingHold',\n",
       " 'HoldPlacedDT',\n",
       " 'HoldLiftedDT',\n",
       " 'InstrumentType',\n",
       " 'DefendantName',\n",
       " 'BirthMonthYear',\n",
       " 'Gender',\n",
       " 'Race',\n",
       " 'Ethnicity',\n",
       " 'defendantAddressAtCaseFiling',\n",
       " 'DefendantAddress',\n",
       " 'HomelessIndicator',\n",
       " 'Level_Degree',\n",
       " 'Offense_Literal',\n",
       " 'Penal_Code',\n",
       " 'UCRGroup',\n",
       " 'NIBRSCode',\n",
       " 'NIBRSSubCode',\n",
       " 'NIBRSGrouping',\n",
       " 'BondTypeCD',\n",
       " 'BondTypeDSC',\n",
       " 'BondFiledDate',\n",
       " 'BondApprovedDT',\n",
       " 'FirstWarrantIssueDT',\n",
       " 'FirstWarrantReason',\n",
       " 'FirstWarrantType',\n",
       " 'WarrantList',\n",
       " 'AttorneyStatus',\n",
       " 'AttorneyStatusDesc',\n",
       " 'Initial_1517_HearingFLG',\n",
       " 'Initial_1517_Hearing_ActionDT',\n",
       " 'PCD_SettingFLG',\n",
       " 'Initial_PCD_CalendarSetDT',\n",
       " 'Initial_PCD_DispositionReason',\n",
       " 'Initial_PCD_DispositionReasonDSC',\n",
       " 'FirstSettingDT',\n",
       " 'InitialDispositionDT',\n",
       " 'InitialDisposition',\n",
       " 'FinalDispositionDT',\n",
       " 'FinalDisposition',\n",
       " 'CaseCompletionDT',\n",
       " 'Emergency_Impact_Docket',\n",
       " 'ProbationDT',\n",
       " 'Probation',\n",
       " 'JudgementDSC',\n",
       " 'JailTime',\n",
       " 'PrisonTime',\n",
       " 'PSA_Date',\n",
       " 'PSA_ReleaseRecommendation',\n",
       " 'PSAScoreRisk',\n",
       " 'NVCAScaleScore',\n",
       " 'Disposition_1',\n",
       " 'Disposition_1_Date',\n",
       " 'Disposition_2',\n",
       " 'Disposition_2_Date',\n",
       " 'OffenseWhileOnBond',\n",
       " 'BondType',\n",
       " 'BondRelDT',\n",
       " 'SourceUpdateDT',\n",
       " 'DataSetUpdateDT']"
      ]
     },
     "execution_count": 7,
     "metadata": {},
     "output_type": "execute_result"
    }
   ],
   "source": [
    "categorical_features = identify_nominal_columns(ccd)\n",
    "categorical_features"
   ]
  },
  {
   "cell_type": "code",
   "execution_count": 40,
   "id": "4ad4c81c",
   "metadata": {},
   "outputs": [],
   "source": [
    "ccd['OffenseDT'] = pd.to_datetime(ccd['OffenseDT'])\n",
    "ccd['Offense_Day'] = ccd['OffenseDT'].dt.day_name()"
   ]
  },
  {
   "cell_type": "code",
   "execution_count": 52,
   "id": "2e81a766",
   "metadata": {},
   "outputs": [],
   "source": [
    "controls = ['Race', 'Gender', 'DefendantZip', 'Ethnicity', 'Offense_Day', 'InitialDisposition']"
   ]
  },
  {
   "cell_type": "code",
   "execution_count": 53,
   "id": "e4d4cf2b",
   "metadata": {},
   "outputs": [],
   "source": [
    "control_ccd = ccd[controls]"
   ]
  },
  {
   "cell_type": "code",
   "execution_count": 43,
   "id": "dd1c076c",
   "metadata": {},
   "outputs": [],
   "source": [
    "categorical_df1 = control_ccd.copy()"
   ]
  },
  {
   "cell_type": "code",
   "execution_count": 44,
   "id": "711607cb",
   "metadata": {},
   "outputs": [
    {
     "data": {
      "image/png": "[encoded data removed]",
      "text/plain": [
       "<Figure size 720x720 with 2 Axes>"
      ]
     },
     "metadata": {
      "needs_background": "light"
     },
     "output_type": "display_data"
    }
   ],
   "source": [
    "categorical_correlation= associations(control_ccd, filename= 'categorical_correlation.png', figsize=(10,10))"
   ]
  }
 ],
 "metadata": {
  "kernelspec": {
   "display_name": "Python 3",
   "language": "python",
   "name": "python3"
  },
  "language_info": {
   "codemirror_mode": {
    "name": "ipython",
    "version": 3
   },
   "file_extension": ".py",
   "mimetype": "text/x-python",
   "name": "python",
   "nbconvert_exporter": "python",
   "pygments_lexer": "ipython3",
   "version": "3.8.8"
  }
 },
 "nbformat": 4,
 "nbformat_minor": 5
}
