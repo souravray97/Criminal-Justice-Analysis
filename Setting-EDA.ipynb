{
 "cells": [
  {
   "cell_type": "code",
   "execution_count": 1,
   "id": "2980d37d",
   "metadata": {},
   "outputs": [],
   "source": [
    "import pandas as pd"
   ]
  },
  {
   "cell_type": "code",
   "execution_count": 2,
   "id": "4b0ecb88",
   "metadata": {},
   "outputs": [
    {
     "name": "stderr",
     "output_type": "stream",
     "text": [
      "C:\\Users\\Sourav Ray\\anaconda3\\lib\\site-packages\\IPython\\core\\interactiveshell.py:3165: DtypeWarning: Columns (9,10,17,18,19,20) have mixed types.Specify dtype option on import or set low_memory=False.\n",
      "  has_raised = await self.run_ast_nodes(code_ast.body, cell_name,\n"
     ]
    }
   ],
   "source": [
    "setting = pd.read_csv(\"Setting.csv\")"
   ]
  },
  {
   "cell_type": "code",
   "execution_count": 3,
   "id": "6921d22d",
   "metadata": {},
   "outputs": [
    {
     "data": {
      "text/html": [
       "<div>\n",
       "<style scoped>\n",
       "    .dataframe tbody tr th:only-of-type {\n",
       "        vertical-align: middle;\n",
       "    }\n",
       "\n",
       "    .dataframe tbody tr th {\n",
       "        vertical-align: top;\n",
       "    }\n",
       "\n",
       "    .dataframe thead th {\n",
       "        text-align: right;\n",
       "    }\n",
       "</style>\n",
       "<table border=\"1\" class=\"dataframe\">\n",
       "  <thead>\n",
       "    <tr style=\"text-align: right;\">\n",
       "      <th></th>\n",
       "      <th>Unnamed: 0</th>\n",
       "      <th>source</th>\n",
       "      <th>CaseID</th>\n",
       "      <th>CaseNum</th>\n",
       "      <th>CourtDivision</th>\n",
       "      <th>DefendantSPN</th>\n",
       "      <th>RecordSeq#</th>\n",
       "      <th>CalNameCode</th>\n",
       "      <th>CalNameDSC</th>\n",
       "      <th>Court</th>\n",
       "      <th>...</th>\n",
       "      <th>CaseBookingDT</th>\n",
       "      <th>ArrestDT</th>\n",
       "      <th>BodyBookingDT</th>\n",
       "      <th>BookingID</th>\n",
       "      <th>OffenseDT</th>\n",
       "      <th>CaseCompletionDT</th>\n",
       "      <th>DispositionReason</th>\n",
       "      <th>DispositionReasonDSC</th>\n",
       "      <th>EarliestScopeDT</th>\n",
       "      <th>EarliestScopeDTDSC</th>\n",
       "    </tr>\n",
       "  </thead>\n",
       "  <tbody>\n",
       "    <tr>\n",
       "      <th>0</th>\n",
       "      <td>1</td>\n",
       "      <td>1</td>\n",
       "      <td>146306801010003</td>\n",
       "      <td>146306801010</td>\n",
       "      <td>3</td>\n",
       "      <td>2390408</td>\n",
       "      <td>999</td>\n",
       "      <td>AC</td>\n",
       "      <td>ASSIGNED COURT</td>\n",
       "      <td>248</td>\n",
       "      <td>...</td>\n",
       "      <td>2015-04-02</td>\n",
       "      <td>2015-03-31</td>\n",
       "      <td>2015-04-02</td>\n",
       "      <td>003826108|02390408</td>\n",
       "      <td>2015-03-31</td>\n",
       "      <td>2015-04-20</td>\n",
       "      <td>RSCT</td>\n",
       "      <td>RESET BY COURT</td>\n",
       "      <td>2015-03-31</td>\n",
       "      <td>OffenseDT</td>\n",
       "    </tr>\n",
       "    <tr>\n",
       "      <th>1</th>\n",
       "      <td>2</td>\n",
       "      <td>1</td>\n",
       "      <td>146306801010003</td>\n",
       "      <td>146306801010</td>\n",
       "      <td>3</td>\n",
       "      <td>2390408</td>\n",
       "      <td>998</td>\n",
       "      <td>AC</td>\n",
       "      <td>ASSIGNED COURT</td>\n",
       "      <td>248</td>\n",
       "      <td>...</td>\n",
       "      <td>2015-04-02</td>\n",
       "      <td>2015-03-31</td>\n",
       "      <td>2015-04-02</td>\n",
       "      <td>003826108|02390408</td>\n",
       "      <td>2015-03-31</td>\n",
       "      <td>2015-04-20</td>\n",
       "      <td>RSDF</td>\n",
       "      <td>RESET UPON DEFENSE REQUEST</td>\n",
       "      <td>2015-03-31</td>\n",
       "      <td>OffenseDT</td>\n",
       "    </tr>\n",
       "    <tr>\n",
       "      <th>2</th>\n",
       "      <td>3</td>\n",
       "      <td>1</td>\n",
       "      <td>146306801010003</td>\n",
       "      <td>146306801010</td>\n",
       "      <td>3</td>\n",
       "      <td>2390408</td>\n",
       "      <td>997</td>\n",
       "      <td>MD</td>\n",
       "      <td>MASTER DOCKET</td>\n",
       "      <td>248</td>\n",
       "      <td>...</td>\n",
       "      <td>2015-04-02</td>\n",
       "      <td>2015-03-31</td>\n",
       "      <td>2015-04-02</td>\n",
       "      <td>003826108|02390408</td>\n",
       "      <td>2015-03-31</td>\n",
       "      <td>2015-04-20</td>\n",
       "      <td>DISM</td>\n",
       "      <td>DISMISSED</td>\n",
       "      <td>2015-03-31</td>\n",
       "      <td>OffenseDT</td>\n",
       "    </tr>\n",
       "    <tr>\n",
       "      <th>3</th>\n",
       "      <td>4</td>\n",
       "      <td>1</td>\n",
       "      <td>146306901010003</td>\n",
       "      <td>146306901010</td>\n",
       "      <td>3</td>\n",
       "      <td>929411</td>\n",
       "      <td>999</td>\n",
       "      <td>AC</td>\n",
       "      <td>ASSIGNED COURT</td>\n",
       "      <td>248</td>\n",
       "      <td>...</td>\n",
       "      <td>2015-04-03</td>\n",
       "      <td>2015-03-31</td>\n",
       "      <td>2015-04-03</td>\n",
       "      <td>003826174|00929411</td>\n",
       "      <td>2015-03-31</td>\n",
       "      <td>2015-05-11</td>\n",
       "      <td>RSCT</td>\n",
       "      <td>RESET BY COURT</td>\n",
       "      <td>2015-03-31</td>\n",
       "      <td>OffenseDT</td>\n",
       "    </tr>\n",
       "    <tr>\n",
       "      <th>4</th>\n",
       "      <td>5</td>\n",
       "      <td>1</td>\n",
       "      <td>146306901010003</td>\n",
       "      <td>146306901010</td>\n",
       "      <td>3</td>\n",
       "      <td>929411</td>\n",
       "      <td>998</td>\n",
       "      <td>AC</td>\n",
       "      <td>ASSIGNED COURT</td>\n",
       "      <td>248</td>\n",
       "      <td>...</td>\n",
       "      <td>2015-04-03</td>\n",
       "      <td>2015-03-31</td>\n",
       "      <td>2015-04-03</td>\n",
       "      <td>003826174|00929411</td>\n",
       "      <td>2015-03-31</td>\n",
       "      <td>2015-05-11</td>\n",
       "      <td>RSCT</td>\n",
       "      <td>RESET BY COURT</td>\n",
       "      <td>2015-03-31</td>\n",
       "      <td>OffenseDT</td>\n",
       "    </tr>\n",
       "  </tbody>\n",
       "</table>\n",
       "<p>5 rows × 37 columns</p>\n",
       "</div>"
      ],
      "text/plain": [
       "   Unnamed: 0  source           CaseID       CaseNum  CourtDivision  \\\n",
       "0           1       1  146306801010003  146306801010              3   \n",
       "1           2       1  146306801010003  146306801010              3   \n",
       "2           3       1  146306801010003  146306801010              3   \n",
       "3           4       1  146306901010003  146306901010              3   \n",
       "4           5       1  146306901010003  146306901010              3   \n",
       "\n",
       "   DefendantSPN  RecordSeq# CalNameCode      CalNameDSC Court  ...  \\\n",
       "0       2390408         999          AC  ASSIGNED COURT   248  ...   \n",
       "1       2390408         998          AC  ASSIGNED COURT   248  ...   \n",
       "2       2390408         997          MD   MASTER DOCKET   248  ...   \n",
       "3        929411         999          AC  ASSIGNED COURT   248  ...   \n",
       "4        929411         998          AC  ASSIGNED COURT   248  ...   \n",
       "\n",
       "  CaseBookingDT    ArrestDT BodyBookingDT           BookingID   OffenseDT  \\\n",
       "0    2015-04-02  2015-03-31    2015-04-02  003826108|02390408  2015-03-31   \n",
       "1    2015-04-02  2015-03-31    2015-04-02  003826108|02390408  2015-03-31   \n",
       "2    2015-04-02  2015-03-31    2015-04-02  003826108|02390408  2015-03-31   \n",
       "3    2015-04-03  2015-03-31    2015-04-03  003826174|00929411  2015-03-31   \n",
       "4    2015-04-03  2015-03-31    2015-04-03  003826174|00929411  2015-03-31   \n",
       "\n",
       "  CaseCompletionDT DispositionReason        DispositionReasonDSC  \\\n",
       "0       2015-04-20              RSCT              RESET BY COURT   \n",
       "1       2015-04-20              RSDF  RESET UPON DEFENSE REQUEST   \n",
       "2       2015-04-20              DISM                   DISMISSED   \n",
       "3       2015-05-11              RSCT              RESET BY COURT   \n",
       "4       2015-05-11              RSCT              RESET BY COURT   \n",
       "\n",
       "  EarliestScopeDT EarliestScopeDTDSC  \n",
       "0      2015-03-31          OffenseDT  \n",
       "1      2015-03-31          OffenseDT  \n",
       "2      2015-03-31          OffenseDT  \n",
       "3      2015-03-31          OffenseDT  \n",
       "4      2015-03-31          OffenseDT  \n",
       "\n",
       "[5 rows x 37 columns]"
      ]
     },
     "execution_count": 3,
     "metadata": {},
     "output_type": "execute_result"
    }
   ],
   "source": [
    "setting.head()"
   ]
  },
  {
   "cell_type": "code",
   "execution_count": 4,
   "id": "a5317331",
   "metadata": {},
   "outputs": [
    {
     "data": {
      "text/plain": [
       "(4603602, 37)"
      ]
     },
     "execution_count": 4,
     "metadata": {},
     "output_type": "execute_result"
    }
   ],
   "source": [
    "setting.shape"
   ]
  },
  {
   "cell_type": "code",
   "execution_count": 5,
   "id": "96c1c516",
   "metadata": {
    "collapsed": true
   },
   "outputs": [
    {
     "name": "stdout",
     "output_type": "stream",
     "text": [
      "<class 'pandas.core.frame.DataFrame'>\n",
      "RangeIndex: 4603602 entries, 0 to 4603601\n",
      "Data columns (total 37 columns):\n",
      " #   Column                Dtype \n",
      "---  ------                ----- \n",
      " 0   Unnamed: 0            int64 \n",
      " 1   source                int64 \n",
      " 2   CaseID                int64 \n",
      " 3   CaseNum               int64 \n",
      " 4   CourtDivision         int64 \n",
      " 5   DefendantSPN          int64 \n",
      " 6   RecordSeq#            int64 \n",
      " 7   CalNameCode           object\n",
      " 8   CalNameDSC            object\n",
      " 9   Court                 object\n",
      " 10  Priority              object\n",
      " 11  C87FormActivity       object\n",
      " 12  1517Hearing           object\n",
      " 13  SettingDT             object\n",
      " 14  SettingTM             object\n",
      " 15  SettingReason         object\n",
      " 16  SettingReasonDSC      object\n",
      " 17  SettingType           object\n",
      " 18  SettingTypeDSC        object\n",
      " 19  CourtAppearance       object\n",
      " 20  CourtAppearanceDSC    object\n",
      " 21  FutureCalCode         object\n",
      " 22  FutureCalDSC          object\n",
      " 23  FutureDT              object\n",
      " 24  CaseStatus            object\n",
      " 25  CaseStatusDSC         object\n",
      " 26  CaseFilingDT          object\n",
      " 27  CaseBookingDT         object\n",
      " 28  ArrestDT              object\n",
      " 29  BodyBookingDT         object\n",
      " 30  BookingID             object\n",
      " 31  OffenseDT             object\n",
      " 32  CaseCompletionDT      object\n",
      " 33  DispositionReason     object\n",
      " 34  DispositionReasonDSC  object\n",
      " 35  EarliestScopeDT       object\n",
      " 36  EarliestScopeDTDSC    object\n",
      "dtypes: int64(7), object(30)\n",
      "memory usage: 1.3+ GB\n"
     ]
    }
   ],
   "source": [
    "setting.info()"
   ]
  },
  {
   "cell_type": "code",
   "execution_count": 6,
   "id": "c3e5d931",
   "metadata": {},
   "outputs": [
    {
     "data": {
      "text/plain": [
       "RESET                                      1793227\n",
       "RESET UPON DEFENSE REQUEST                  746206\n",
       "RESET BY OPERATION OF LAW                   296789\n",
       "RESET BY COURT                              251013\n",
       "RESET BY AGREEMENT OF BOTH PARTIES          245042\n",
       "                                            ...   \n",
       "NOLLE CONTENDERE-REDUCED, PROBATION              1\n",
       "RESET UPON REQUEST BY PROSECUTION                1\n",
       "FINAL JUDGMENT RENDERED SEIZURE/FORFEIT          1\n",
       "PROBATION MOTION OVER RULED                      1\n",
       "MANDATE REVERSED AND ACQUITTAL                   1\n",
       "Name: DispositionReasonDSC, Length: 137, dtype: int64"
      ]
     },
     "execution_count": 6,
     "metadata": {},
     "output_type": "execute_result"
    }
   ],
   "source": [
    "setting['DispositionReasonDSC'].value_counts()"
   ]
  },
  {
   "cell_type": "code",
   "execution_count": 7,
   "id": "65111799",
   "metadata": {},
   "outputs": [],
   "source": [
    "setting.drop(\"Unnamed: 0\", axis = 1, inplace = True)"
   ]
  },
  {
   "cell_type": "code",
   "execution_count": 8,
   "id": "76bd3bee",
   "metadata": {},
   "outputs": [
    {
     "name": "stdout",
     "output_type": "stream",
     "text": [
      "<class 'pandas.core.frame.DataFrame'>\n",
      "RangeIndex: 4603602 entries, 0 to 4603601\n",
      "Data columns (total 36 columns):\n",
      " #   Column                Dtype \n",
      "---  ------                ----- \n",
      " 0   source                int64 \n",
      " 1   CaseID                int64 \n",
      " 2   CaseNum               int64 \n",
      " 3   CourtDivision         int64 \n",
      " 4   DefendantSPN          int64 \n",
      " 5   RecordSeq#            int64 \n",
      " 6   CalNameCode           object\n",
      " 7   CalNameDSC            object\n",
      " 8   Court                 object\n",
      " 9   Priority              object\n",
      " 10  C87FormActivity       object\n",
      " 11  1517Hearing           object\n",
      " 12  SettingDT             object\n",
      " 13  SettingTM             object\n",
      " 14  SettingReason         object\n",
      " 15  SettingReasonDSC      object\n",
      " 16  SettingType           object\n",
      " 17  SettingTypeDSC        object\n",
      " 18  CourtAppearance       object\n",
      " 19  CourtAppearanceDSC    object\n",
      " 20  FutureCalCode         object\n",
      " 21  FutureCalDSC          object\n",
      " 22  FutureDT              object\n",
      " 23  CaseStatus            object\n",
      " 24  CaseStatusDSC         object\n",
      " 25  CaseFilingDT          object\n",
      " 26  CaseBookingDT         object\n",
      " 27  ArrestDT              object\n",
      " 28  BodyBookingDT         object\n",
      " 29  BookingID             object\n",
      " 30  OffenseDT             object\n",
      " 31  CaseCompletionDT      object\n",
      " 32  DispositionReason     object\n",
      " 33  DispositionReasonDSC  object\n",
      " 34  EarliestScopeDT       object\n",
      " 35  EarliestScopeDTDSC    object\n",
      "dtypes: int64(6), object(30)\n",
      "memory usage: 1.2+ GB\n"
     ]
    }
   ],
   "source": [
    "setting.info()"
   ]
  },
  {
   "cell_type": "code",
   "execution_count": 15,
   "id": "559d3dc4",
   "metadata": {},
   "outputs": [],
   "source": [
    "x = setting.nunique()"
   ]
  },
  {
   "cell_type": "code",
   "execution_count": 16,
   "id": "075497b7",
   "metadata": {},
   "outputs": [],
   "source": [
    "less_uniq = setting[list(x[x<10].index)]"
   ]
  },
  {
   "cell_type": "code",
   "execution_count": null,
   "id": "b72de106",
   "metadata": {},
   "outputs": [],
   "source": []
  },
  {
   "cell_type": "code",
   "execution_count": 12,
   "id": "5b00c779",
   "metadata": {},
   "outputs": [
    {
     "name": "stdout",
     "output_type": "stream",
     "text": [
      "['SettingDT', 'FutureDT', 'CaseFilingDT', 'CaseBookingDT', 'ArrestDT', 'BodyBookingDT', 'OffenseDT', 'CaseCompletionDT', 'EarliestScopeDT', 'EarliestScopeDTDSC']\n"
     ]
    }
   ],
   "source": [
    "date_cols = [col for col in setting.columns if 'DT' in col]\n",
    "print(date_cols)"
   ]
  },
  {
   "cell_type": "code",
   "execution_count": 10,
   "id": "6396a798",
   "metadata": {},
   "outputs": [
    {
     "data": {
      "text/plain": [
       "<AxesSubplot:>"
      ]
     },
     "execution_count": 10,
     "metadata": {},
     "output_type": "execute_result"
    },
    {
     "data": {
      "image/png": "[encoded data removed]",
      "text/plain": [
       "<Figure size 432x288 with 1 Axes>"
      ]
     },
     "metadata": {
      "needs_background": "light"
     },
     "output_type": "display_data"
    }
   ],
   "source": [
    "setting['CaseStatusDSC'].value_counts().plot(kind='bar')"
   ]
  },
  {
   "cell_type": "code",
   "execution_count": 11,
   "id": "1d7018ad",
   "metadata": {},
   "outputs": [
    {
     "data": {
      "text/plain": [
       "<AxesSubplot:>"
      ]
     },
     "execution_count": 11,
     "metadata": {},
     "output_type": "execute_result"
    },
    {
     "data": {
      "image/png": "[encoded data removed]",
      "text/plain": [
       "<Figure size 432x288 with 1 Axes>"
      ]
     },
     "metadata": {
      "needs_background": "light"
     },
     "output_type": "display_data"
    }
   ],
   "source": [
    "setting['SettingTypeDSC'].value_counts().plot(kind='bar')"
   ]
  },
  {
   "cell_type": "code",
   "execution_count": null,
   "id": "4595706f",
   "metadata": {},
   "outputs": [],
   "source": []
  },
  {
   "cell_type": "code",
   "execution_count": null,
   "id": "ba133d9a",
   "metadata": {},
   "outputs": [],
   "source": []
  },
  {
   "cell_type": "code",
   "execution_count": null,
   "id": "3974ba2c",
   "metadata": {},
   "outputs": [],
   "source": []
  },
  {
   "cell_type": "code",
   "execution_count": null,
   "id": "b0ce3704",
   "metadata": {},
   "outputs": [],
   "source": []
  },
  {
   "cell_type": "code",
   "execution_count": null,
   "id": "18eccaa6",
   "metadata": {},
   "outputs": [],
   "source": []
  },
  {
   "cell_type": "code",
   "execution_count": null,
   "id": "20f8c10a",
   "metadata": {},
   "outputs": [],
   "source": []
  },
  {
   "cell_type": "code",
   "execution_count": null,
   "id": "2fa1a46e",
   "metadata": {},
   "outputs": [],
   "source": []
  },
  {
   "cell_type": "code",
   "execution_count": null,
   "id": "fd6a9a86",
   "metadata": {},
   "outputs": [],
   "source": []
  },
  {
   "cell_type": "code",
   "execution_count": null,
   "id": "3939cc87",
   "metadata": {},
   "outputs": [],
   "source": []
  },
  {
   "cell_type": "code",
   "execution_count": null,
   "id": "6fdc6aa2",
   "metadata": {},
   "outputs": [],
   "source": []
  },
  {
   "cell_type": "code",
   "execution_count": null,
   "id": "e8af2f3a",
   "metadata": {},
   "outputs": [],
   "source": []
  }
 ],
 "metadata": {
  "kernelspec": {
   "display_name": "Python 3",
   "language": "python",
   "name": "python3"
  },
  "language_info": {
   "codemirror_mode": {
    "name": "ipython",
    "version": 3
   },
   "file_extension": ".py",
   "mimetype": "text/x-python",
   "name": "python",
   "nbconvert_exporter": "python",
   "pygments_lexer": "ipython3",
   "version": "3.8.8"
  }
 },
 "nbformat": 4,
 "nbformat_minor": 5
}
